{
 "cells": [
  {
   "cell_type": "code",
   "execution_count": 1,
   "id": "4e11aaa6",
   "metadata": {},
   "outputs": [],
   "source": [
    "import numpy as np"
   ]
  },
  {
   "cell_type": "code",
   "execution_count": 2,
   "id": "6389cecf",
   "metadata": {},
   "outputs": [],
   "source": [
    "liste = [1,2,3]\n",
    "tek = np.array(liste)"
   ]
  },
  {
   "cell_type": "code",
   "execution_count": 3,
   "id": "ffb38c0c",
   "metadata": {},
   "outputs": [
    {
     "data": {
      "text/plain": [
       "array([1, 2, 3])"
      ]
     },
     "execution_count": 3,
     "metadata": {},
     "output_type": "execute_result"
    }
   ],
   "source": [
    "tek"
   ]
  },
  {
   "cell_type": "code",
   "execution_count": 4,
   "id": "7add23a0",
   "metadata": {},
   "outputs": [],
   "source": [
    "liste2 = [[10,20,30],[40,50,60],[70,80,90]]"
   ]
  },
  {
   "cell_type": "code",
   "execution_count": 5,
   "id": "036ac00e",
   "metadata": {},
   "outputs": [],
   "source": [
    "cok = np.array(liste2)"
   ]
  },
  {
   "cell_type": "code",
   "execution_count": 6,
   "id": "9de4d84b",
   "metadata": {},
   "outputs": [
    {
     "data": {
      "text/plain": [
       "array([[10, 20, 30],\n",
       "       [40, 50, 60],\n",
       "       [70, 80, 90]])"
      ]
     },
     "execution_count": 6,
     "metadata": {},
     "output_type": "execute_result"
    }
   ],
   "source": [
    "cok"
   ]
  },
  {
   "cell_type": "code",
   "execution_count": 8,
   "id": "6b79e79b",
   "metadata": {},
   "outputs": [
    {
     "data": {
      "text/plain": [
       "50"
      ]
     },
     "execution_count": 8,
     "metadata": {},
     "output_type": "execute_result"
    }
   ],
   "source": [
    "cok[1,1]"
   ]
  },
  {
   "cell_type": "code",
   "execution_count": 9,
   "id": "a6383bce",
   "metadata": {},
   "outputs": [
    {
     "data": {
      "text/plain": [
       "array([10, 11, 12, 13, 14, 15, 16, 17, 18, 19])"
      ]
     },
     "execution_count": 9,
     "metadata": {},
     "output_type": "execute_result"
    }
   ],
   "source": [
    "np.arange(10,20)"
   ]
  },
  {
   "cell_type": "code",
   "execution_count": 10,
   "id": "5f674ae1",
   "metadata": {},
   "outputs": [
    {
     "data": {
      "text/plain": [
       "array([ 1,  3,  5,  7,  9, 11, 13, 15, 17, 19, 21, 23, 25, 27, 29, 31, 33,\n",
       "       35, 37, 39, 41, 43, 45, 47, 49])"
      ]
     },
     "execution_count": 10,
     "metadata": {},
     "output_type": "execute_result"
    }
   ],
   "source": [
    "np.arange(1,50,2)"
   ]
  },
  {
   "cell_type": "code",
   "execution_count": 11,
   "id": "0905677f",
   "metadata": {},
   "outputs": [
    {
     "data": {
      "text/plain": [
       "array([0., 0., 0., 0., 0., 0., 0., 0., 0., 0.])"
      ]
     },
     "execution_count": 11,
     "metadata": {},
     "output_type": "execute_result"
    }
   ],
   "source": [
    "np.zeros(10)"
   ]
  },
  {
   "cell_type": "code",
   "execution_count": 12,
   "id": "8d31fc47",
   "metadata": {},
   "outputs": [
    {
     "data": {
      "text/plain": [
       "array([1., 1., 1., 1., 1., 1., 1., 1., 1., 1.])"
      ]
     },
     "execution_count": 12,
     "metadata": {},
     "output_type": "execute_result"
    }
   ],
   "source": [
    "np.ones(10)"
   ]
  },
  {
   "cell_type": "code",
   "execution_count": 13,
   "id": "002d637c",
   "metadata": {},
   "outputs": [
    {
     "data": {
      "text/plain": [
       "array([[0., 0.],\n",
       "       [0., 0.]])"
      ]
     },
     "execution_count": 13,
     "metadata": {},
     "output_type": "execute_result"
    }
   ],
   "source": [
    "np.zeros((2,2))"
   ]
  },
  {
   "cell_type": "code",
   "execution_count": 14,
   "id": "69125b32",
   "metadata": {},
   "outputs": [
    {
     "data": {
      "text/plain": [
       "array([[0., 0., 0., 0., 0.],\n",
       "       [0., 0., 0., 0., 0.],\n",
       "       [0., 0., 0., 0., 0.],\n",
       "       [0., 0., 0., 0., 0.],\n",
       "       [0., 0., 0., 0., 0.]])"
      ]
     },
     "execution_count": 14,
     "metadata": {},
     "output_type": "execute_result"
    }
   ],
   "source": [
    "np.zeros((5,5))"
   ]
  },
  {
   "cell_type": "code",
   "execution_count": 18,
   "id": "6a2ad54c",
   "metadata": {},
   "outputs": [
    {
     "data": {
      "text/plain": [
       "array([  1.  ,  25.75,  50.5 ,  75.25, 100.  ])"
      ]
     },
     "execution_count": 18,
     "metadata": {},
     "output_type": "execute_result"
    }
   ],
   "source": [
    "np.linspace(1,100,5)       #beş parçaya bölüyor"
   ]
  },
  {
   "cell_type": "code",
   "execution_count": 19,
   "id": "66578541",
   "metadata": {},
   "outputs": [
    {
     "data": {
      "text/plain": [
       "array([ 1.        ,  5.83333333, 10.66666667, 15.5       , 20.33333333,\n",
       "       25.16666667, 30.        ])"
      ]
     },
     "execution_count": 19,
     "metadata": {},
     "output_type": "execute_result"
    }
   ],
   "source": [
    "np.linspace(1,30,7)"
   ]
  },
  {
   "cell_type": "code",
   "execution_count": 20,
   "id": "c926c865",
   "metadata": {},
   "outputs": [
    {
     "data": {
      "text/plain": [
       "array([[1., 0., 0., 0., 0., 0.],\n",
       "       [0., 1., 0., 0., 0., 0.],\n",
       "       [0., 0., 1., 0., 0., 0.],\n",
       "       [0., 0., 0., 1., 0., 0.],\n",
       "       [0., 0., 0., 0., 1., 0.],\n",
       "       [0., 0., 0., 0., 0., 1.]])"
      ]
     },
     "execution_count": 20,
     "metadata": {},
     "output_type": "execute_result"
    }
   ],
   "source": [
    "np.eye(6)"
   ]
  },
  {
   "cell_type": "code",
   "execution_count": 21,
   "id": "6bf20fc6",
   "metadata": {},
   "outputs": [
    {
     "data": {
      "text/plain": [
       "array([[1., 0., 0.],\n",
       "       [0., 1., 0.],\n",
       "       [0., 0., 1.]])"
      ]
     },
     "execution_count": 21,
     "metadata": {},
     "output_type": "execute_result"
    }
   ],
   "source": [
    "np.eye(3)"
   ]
  },
  {
   "cell_type": "code",
   "execution_count": 25,
   "id": "25fed4de",
   "metadata": {},
   "outputs": [
    {
     "data": {
      "text/plain": [
       "7"
      ]
     },
     "execution_count": 25,
     "metadata": {},
     "output_type": "execute_result"
    }
   ],
   "source": [
    "np.random.randint(0,10)      #0 ve 10 arasında rastgele bir sayı döner"
   ]
  },
  {
   "cell_type": "code",
   "execution_count": 29,
   "id": "35a3a46f",
   "metadata": {},
   "outputs": [
    {
     "data": {
      "text/plain": [
       "9"
      ]
     },
     "execution_count": 29,
     "metadata": {},
     "output_type": "execute_result"
    }
   ],
   "source": [
    "np.random.randint(20)       #0 ve 20 arasında rastgele bir sayı döner"
   ]
  },
  {
   "cell_type": "code",
   "execution_count": 32,
   "id": "f3f95520",
   "metadata": {},
   "outputs": [
    {
     "data": {
      "text/plain": [
       "array([2, 5, 3, 9, 2])"
      ]
     },
     "execution_count": 32,
     "metadata": {},
     "output_type": "execute_result"
    }
   ],
   "source": [
    "np.random.randint(1,10,5)          # 1 ve 10 arasında rastgele 5 değeri bir array e depolar"
   ]
  },
  {
   "cell_type": "code",
   "execution_count": 34,
   "id": "40dbf8f7",
   "metadata": {},
   "outputs": [
    {
     "data": {
      "text/plain": [
       "array([-0.31665855,  0.19186444,  1.0821597 ,  1.37636347,  1.05879823])"
      ]
     },
     "execution_count": 34,
     "metadata": {},
     "output_type": "execute_result"
    }
   ],
   "source": [
    "np.random.randn(5)      #sıfırın eterafında pozitif ve negatif rastgele sayılar"
   ]
  },
  {
   "cell_type": "code",
   "execution_count": 35,
   "id": "e04ee04c",
   "metadata": {},
   "outputs": [],
   "source": [
    "deger = np.arange(25)"
   ]
  },
  {
   "cell_type": "code",
   "execution_count": 37,
   "id": "90d7940e",
   "metadata": {},
   "outputs": [
    {
     "data": {
      "text/plain": [
       "array([[ 0,  1,  2,  3,  4],\n",
       "       [ 5,  6,  7,  8,  9],\n",
       "       [10, 11, 12, 13, 14],\n",
       "       [15, 16, 17, 18, 19],\n",
       "       [20, 21, 22, 23, 24]])"
      ]
     },
     "execution_count": 37,
     "metadata": {},
     "output_type": "execute_result"
    }
   ],
   "source": [
    "deger.reshape(5,5)          #deger arrayini 5x5 matrise ekledi"
   ]
  },
  {
   "cell_type": "code",
   "execution_count": 38,
   "id": "6e749165",
   "metadata": {},
   "outputs": [],
   "source": [
    "yenideger = np.random.randint(1,100,10)"
   ]
  },
  {
   "cell_type": "code",
   "execution_count": 39,
   "id": "7b8ced16",
   "metadata": {},
   "outputs": [
    {
     "data": {
      "text/plain": [
       "array([18, 70, 21, 69, 71,  3, 98, 14, 48, 30])"
      ]
     },
     "execution_count": 39,
     "metadata": {},
     "output_type": "execute_result"
    }
   ],
   "source": [
    "yenideger"
   ]
  },
  {
   "cell_type": "code",
   "execution_count": 43,
   "id": "8dcbc4af",
   "metadata": {},
   "outputs": [
    {
     "data": {
      "text/plain": [
       "98"
      ]
     },
     "execution_count": 43,
     "metadata": {},
     "output_type": "execute_result"
    }
   ],
   "source": [
    "yenideger.max()          #en büyük değeri getirir."
   ]
  },
  {
   "cell_type": "code",
   "execution_count": 44,
   "id": "908c85cf",
   "metadata": {},
   "outputs": [
    {
     "data": {
      "text/plain": [
       "3"
      ]
     },
     "execution_count": 44,
     "metadata": {},
     "output_type": "execute_result"
    }
   ],
   "source": [
    "yenideger.min()     #en küçük değeri getirir."
   ]
  },
  {
   "cell_type": "code",
   "execution_count": 46,
   "id": "b6724fa3",
   "metadata": {},
   "outputs": [
    {
     "data": {
      "text/plain": [
       "442"
      ]
     },
     "execution_count": 46,
     "metadata": {},
     "output_type": "execute_result"
    }
   ],
   "source": [
    "yenideger.sum()          #bütün sayıların toplamını getirir."
   ]
  },
  {
   "cell_type": "code",
   "execution_count": 48,
   "id": "be5bd4d4",
   "metadata": {},
   "outputs": [
    {
     "data": {
      "text/plain": [
       "44.2"
      ]
     },
     "execution_count": 48,
     "metadata": {},
     "output_type": "execute_result"
    }
   ],
   "source": [
    "yenideger.mean()          #bütün sayıların ortalamasını döndürür"
   ]
  },
  {
   "cell_type": "code",
   "execution_count": 51,
   "id": "2580017f",
   "metadata": {},
   "outputs": [
    {
     "data": {
      "text/plain": [
       "6"
      ]
     },
     "execution_count": 51,
     "metadata": {},
     "output_type": "execute_result"
    }
   ],
   "source": [
    "yenideger.argmax()      #en büyük sayının bulunduğu indexi verir."
   ]
  },
  {
   "cell_type": "code",
   "execution_count": 53,
   "id": "bc8ecde7",
   "metadata": {},
   "outputs": [
    {
     "data": {
      "text/plain": [
       "5"
      ]
     },
     "execution_count": 53,
     "metadata": {},
     "output_type": "execute_result"
    }
   ],
   "source": [
    "yenideger.argmin()      #en küçük değerin bulunduğu indexi verir."
   ]
  },
  {
   "cell_type": "code",
   "execution_count": 54,
   "id": "a121174e",
   "metadata": {},
   "outputs": [],
   "source": [
    "determinant = np.random.randint(1,100,25)"
   ]
  },
  {
   "cell_type": "code",
   "execution_count": 55,
   "id": "2ab01eed",
   "metadata": {},
   "outputs": [
    {
     "data": {
      "text/plain": [
       "array([61, 46, 27, 19, 75, 58, 78, 51, 92, 43,  7, 22, 76, 24, 35, 69, 68,\n",
       "        2,  2, 10, 86, 15, 29, 91, 39])"
      ]
     },
     "execution_count": 55,
     "metadata": {},
     "output_type": "execute_result"
    }
   ],
   "source": [
    "determinant"
   ]
  },
  {
   "cell_type": "code",
   "execution_count": 57,
   "id": "1f440651",
   "metadata": {},
   "outputs": [],
   "source": [
    "matris = determinant.reshape(5,5)"
   ]
  },
  {
   "cell_type": "code",
   "execution_count": 58,
   "id": "0b807d13",
   "metadata": {},
   "outputs": [
    {
     "data": {
      "text/plain": [
       "array([[61, 46, 27, 19, 75],\n",
       "       [58, 78, 51, 92, 43],\n",
       "       [ 7, 22, 76, 24, 35],\n",
       "       [69, 68,  2,  2, 10],\n",
       "       [86, 15, 29, 91, 39]])"
      ]
     },
     "execution_count": 58,
     "metadata": {},
     "output_type": "execute_result"
    }
   ],
   "source": [
    "matris"
   ]
  },
  {
   "cell_type": "code",
   "execution_count": 60,
   "id": "0f84a13a",
   "metadata": {},
   "outputs": [
    {
     "data": {
      "text/plain": [
       "1801006122.999997"
      ]
     },
     "execution_count": 60,
     "metadata": {},
     "output_type": "execute_result"
    }
   ],
   "source": [
    "np.linalg.det(matris)              # determinantı hesaplar"
   ]
  },
  {
   "cell_type": "code",
   "execution_count": 62,
   "id": "4e163268",
   "metadata": {},
   "outputs": [],
   "source": [
    "array = np.array([[1,2],[3,4]])"
   ]
  },
  {
   "cell_type": "code",
   "execution_count": 63,
   "id": "50df130e",
   "metadata": {},
   "outputs": [
    {
     "data": {
      "text/plain": [
       "array([[1, 2],\n",
       "       [3, 4]])"
      ]
     },
     "execution_count": 63,
     "metadata": {},
     "output_type": "execute_result"
    }
   ],
   "source": [
    "array"
   ]
  },
  {
   "cell_type": "code",
   "execution_count": 65,
   "id": "8293fe07",
   "metadata": {},
   "outputs": [
    {
     "data": {
      "text/plain": [
       "-2.0000000000000004"
      ]
     },
     "execution_count": 65,
     "metadata": {},
     "output_type": "execute_result"
    }
   ],
   "source": [
    "np.linalg.det(array)"
   ]
  },
  {
   "cell_type": "code",
   "execution_count": 67,
   "id": "51a2868c",
   "metadata": {},
   "outputs": [
    {
     "data": {
      "text/plain": [
       "-2"
      ]
     },
     "execution_count": 67,
     "metadata": {},
     "output_type": "execute_result"
    }
   ],
   "source": [
    "round(np.linalg.det(array))          # sayıyı integer yazar"
   ]
  },
  {
   "cell_type": "code",
   "execution_count": 68,
   "id": "9a6c7dc4",
   "metadata": {},
   "outputs": [],
   "source": [
    "degis = np.arange(1,10)"
   ]
  },
  {
   "cell_type": "code",
   "execution_count": 69,
   "id": "1952bbd0",
   "metadata": {},
   "outputs": [
    {
     "data": {
      "text/plain": [
       "array([1, 2, 3, 4, 5, 6, 7, 8, 9])"
      ]
     },
     "execution_count": 69,
     "metadata": {},
     "output_type": "execute_result"
    }
   ],
   "source": [
    "degis"
   ]
  },
  {
   "cell_type": "code",
   "execution_count": 70,
   "id": "0ec11526",
   "metadata": {},
   "outputs": [
    {
     "data": {
      "text/plain": [
       "2"
      ]
     },
     "execution_count": 70,
     "metadata": {},
     "output_type": "execute_result"
    }
   ],
   "source": [
    "degis[1]"
   ]
  },
  {
   "cell_type": "code",
   "execution_count": 71,
   "id": "fd2971da",
   "metadata": {},
   "outputs": [
    {
     "data": {
      "text/plain": [
       "9"
      ]
     },
     "execution_count": 71,
     "metadata": {},
     "output_type": "execute_result"
    }
   ],
   "source": [
    "degis[8]"
   ]
  },
  {
   "cell_type": "code",
   "execution_count": 72,
   "id": "ce30d544",
   "metadata": {},
   "outputs": [
    {
     "data": {
      "text/plain": [
       "array([2, 3, 4, 5, 6, 7])"
      ]
     },
     "execution_count": 72,
     "metadata": {},
     "output_type": "execute_result"
    }
   ],
   "source": [
    "degis[1:7]"
   ]
  },
  {
   "cell_type": "code",
   "execution_count": 73,
   "id": "d2b3751b",
   "metadata": {},
   "outputs": [
    {
     "data": {
      "text/plain": [
       "array([1, 2, 3, 4, 5])"
      ]
     },
     "execution_count": 73,
     "metadata": {},
     "output_type": "execute_result"
    }
   ],
   "source": [
    "degis[:5]"
   ]
  },
  {
   "cell_type": "code",
   "execution_count": 74,
   "id": "adb65a8d",
   "metadata": {},
   "outputs": [
    {
     "data": {
      "text/plain": [
       "array([1, 3, 5, 7, 9])"
      ]
     },
     "execution_count": 74,
     "metadata": {},
     "output_type": "execute_result"
    }
   ],
   "source": [
    "degis[::2]"
   ]
  },
  {
   "cell_type": "code",
   "execution_count": 77,
   "id": "74cb3f5c",
   "metadata": {},
   "outputs": [],
   "source": [
    "degis[:6] = 25          #ilk 6 değeri 25 yapar"
   ]
  },
  {
   "cell_type": "code",
   "execution_count": 78,
   "id": "bcace7d1",
   "metadata": {},
   "outputs": [
    {
     "data": {
      "text/plain": [
       "array([25, 25, 25, 25, 25, 25,  7,  8,  9])"
      ]
     },
     "execution_count": 78,
     "metadata": {},
     "output_type": "execute_result"
    }
   ],
   "source": [
    "degis"
   ]
  },
  {
   "cell_type": "code",
   "execution_count": 79,
   "id": "d4f2dcfb",
   "metadata": {},
   "outputs": [],
   "source": [
    "degis2 = degis"
   ]
  },
  {
   "cell_type": "code",
   "execution_count": 80,
   "id": "7220e68f",
   "metadata": {},
   "outputs": [
    {
     "data": {
      "text/plain": [
       "array([25, 25, 25, 25, 25, 25,  7,  8,  9])"
      ]
     },
     "execution_count": 80,
     "metadata": {},
     "output_type": "execute_result"
    }
   ],
   "source": [
    "degis2"
   ]
  },
  {
   "cell_type": "code",
   "execution_count": 81,
   "id": "40b702c0",
   "metadata": {},
   "outputs": [],
   "source": [
    "degis2[:6] = 100"
   ]
  },
  {
   "cell_type": "code",
   "execution_count": 82,
   "id": "b280d013",
   "metadata": {},
   "outputs": [
    {
     "data": {
      "text/plain": [
       "array([100, 100, 100, 100, 100, 100,   7,   8,   9])"
      ]
     },
     "execution_count": 82,
     "metadata": {},
     "output_type": "execute_result"
    }
   ],
   "source": [
    "degis2"
   ]
  },
  {
   "cell_type": "code",
   "execution_count": 84,
   "id": "fbec8717",
   "metadata": {},
   "outputs": [
    {
     "data": {
      "text/plain": [
       "array([100, 100, 100, 100, 100, 100,   7,   8,   9])"
      ]
     },
     "execution_count": 84,
     "metadata": {},
     "output_type": "execute_result"
    }
   ],
   "source": [
    "degis                          #yapılan değişiklik aynı zamanda degis i de etkiler.çünkü aynı bellek alanında oluşturuldu"
   ]
  },
  {
   "cell_type": "code",
   "execution_count": 86,
   "id": "0dba1a9f",
   "metadata": {},
   "outputs": [],
   "source": [
    "degis3 = degis.copy()          #bu şekilde yapılırsa aynı bellek alanında olmaz.yapılan değişiklikler birbirini etkilemez."
   ]
  },
  {
   "cell_type": "code",
   "execution_count": 90,
   "id": "ded527d3",
   "metadata": {},
   "outputs": [],
   "source": [
    "yenidegis = np.arange(1,21)"
   ]
  },
  {
   "cell_type": "code",
   "execution_count": 95,
   "id": "b929db4e",
   "metadata": {},
   "outputs": [],
   "source": [
    "matris = yenidegis.reshape(5,4)"
   ]
  },
  {
   "cell_type": "code",
   "execution_count": 96,
   "id": "b15de69f",
   "metadata": {},
   "outputs": [
    {
     "data": {
      "text/plain": [
       "12"
      ]
     },
     "execution_count": 96,
     "metadata": {},
     "output_type": "execute_result"
    }
   ],
   "source": [
    "matris[2,3]"
   ]
  },
  {
   "cell_type": "code",
   "execution_count": 97,
   "id": "32060f6f",
   "metadata": {},
   "outputs": [
    {
     "data": {
      "text/plain": [
       "array([[ 1,  2,  3,  4],\n",
       "       [ 5,  6,  7,  8],\n",
       "       [ 9, 10, 11, 12],\n",
       "       [13, 14, 15, 16],\n",
       "       [17, 18, 19, 20]])"
      ]
     },
     "execution_count": 97,
     "metadata": {},
     "output_type": "execute_result"
    }
   ],
   "source": [
    "matris"
   ]
  },
  {
   "cell_type": "code",
   "execution_count": 98,
   "id": "fe24fbc6",
   "metadata": {},
   "outputs": [
    {
     "data": {
      "text/plain": [
       "array([[ 1,  2],\n",
       "       [ 5,  6],\n",
       "       [ 9, 10],\n",
       "       [13, 14],\n",
       "       [17, 18]])"
      ]
     },
     "execution_count": 98,
     "metadata": {},
     "output_type": "execute_result"
    }
   ],
   "source": [
    "matris[:,:2]"
   ]
  },
  {
   "cell_type": "code",
   "execution_count": 99,
   "id": "1386b4df",
   "metadata": {},
   "outputs": [
    {
     "data": {
      "text/plain": [
       "array([[ 1,  2,  3],\n",
       "       [ 5,  6,  7],\n",
       "       [ 9, 10, 11]])"
      ]
     },
     "execution_count": 99,
     "metadata": {},
     "output_type": "execute_result"
    }
   ],
   "source": [
    "matris[:3,:3]"
   ]
  },
  {
   "cell_type": "code",
   "execution_count": 100,
   "id": "5c2da71a",
   "metadata": {},
   "outputs": [
    {
     "data": {
      "text/plain": [
       "array([[1, 2, 3, 4],\n",
       "       [5, 6, 7, 8]])"
      ]
     },
     "execution_count": 100,
     "metadata": {},
     "output_type": "execute_result"
    }
   ],
   "source": [
    "matris[:2,:]"
   ]
  },
  {
   "cell_type": "code",
   "execution_count": 101,
   "id": "43a4cb9d",
   "metadata": {},
   "outputs": [
    {
     "data": {
      "text/plain": [
       "array([[1, 2, 3, 4],\n",
       "       [5, 6, 7, 8]])"
      ]
     },
     "execution_count": 101,
     "metadata": {},
     "output_type": "execute_result"
    }
   ],
   "source": [
    "matris[:2]"
   ]
  },
  {
   "cell_type": "code",
   "execution_count": 102,
   "id": "d4c5cea2",
   "metadata": {},
   "outputs": [],
   "source": [
    "degis = np.arange(1,20)"
   ]
  },
  {
   "cell_type": "code",
   "execution_count": 104,
   "id": "2bf0aca7",
   "metadata": {},
   "outputs": [
    {
     "data": {
      "text/plain": [
       "array([False, False, False, False, False, False,  True,  True,  True,\n",
       "        True,  True,  True,  True,  True,  True,  True,  True,  True,\n",
       "        True])"
      ]
     },
     "execution_count": 104,
     "metadata": {},
     "output_type": "execute_result"
    }
   ],
   "source": [
    "degis > 6        #6 dan küçükleri false , 6 dan büyükleri true döndürür."
   ]
  },
  {
   "cell_type": "code",
   "execution_count": 105,
   "id": "178f4fc9",
   "metadata": {},
   "outputs": [],
   "source": [
    "dogrular = degis > 6"
   ]
  },
  {
   "cell_type": "code",
   "execution_count": 107,
   "id": "f31784c3",
   "metadata": {},
   "outputs": [
    {
     "data": {
      "text/plain": [
       "array([ 7,  8,  9, 10, 11, 12, 13, 14, 15, 16, 17, 18, 19])"
      ]
     },
     "execution_count": 107,
     "metadata": {},
     "output_type": "execute_result"
    }
   ],
   "source": [
    "degis[dogrular]          #doğru olanları bastırır."
   ]
  },
  {
   "cell_type": "code",
   "execution_count": 109,
   "id": "5f3e21e4",
   "metadata": {},
   "outputs": [
    {
     "data": {
      "text/plain": [
       "array([11, 12, 13, 14, 15, 16, 17, 18, 19])"
      ]
     },
     "execution_count": 109,
     "metadata": {},
     "output_type": "execute_result"
    }
   ],
   "source": [
    "degis[degis > 10]      #bu şekildede kullanılır"
   ]
  },
  {
   "cell_type": "code",
   "execution_count": 111,
   "id": "59bf0bea",
   "metadata": {},
   "outputs": [],
   "source": [
    "degis1 = np.arange(1,10)"
   ]
  },
  {
   "cell_type": "code",
   "execution_count": 112,
   "id": "4f581447",
   "metadata": {},
   "outputs": [
    {
     "data": {
      "text/plain": [
       "array([1, 2, 3, 4, 5, 6, 7, 8, 9])"
      ]
     },
     "execution_count": 112,
     "metadata": {},
     "output_type": "execute_result"
    }
   ],
   "source": [
    "degis1"
   ]
  },
  {
   "cell_type": "code",
   "execution_count": 115,
   "id": "bb76c76e",
   "metadata": {},
   "outputs": [],
   "source": [
    "degis2 = np.arange(10,19)"
   ]
  },
  {
   "cell_type": "code",
   "execution_count": 114,
   "id": "5f8b6c4e",
   "metadata": {},
   "outputs": [
    {
     "data": {
      "text/plain": [
       "array([10, 11, 12, 13, 14, 15, 16, 17, 18, 19])"
      ]
     },
     "execution_count": 114,
     "metadata": {},
     "output_type": "execute_result"
    }
   ],
   "source": [
    "degis2"
   ]
  },
  {
   "cell_type": "code",
   "execution_count": 116,
   "id": "d74b6081",
   "metadata": {},
   "outputs": [
    {
     "data": {
      "text/plain": [
       "array([11, 13, 15, 17, 19, 21, 23, 25, 27])"
      ]
     },
     "execution_count": 116,
     "metadata": {},
     "output_type": "execute_result"
    }
   ],
   "source": [
    "degis1 + degis2"
   ]
  },
  {
   "cell_type": "code",
   "execution_count": 117,
   "id": "f210d411",
   "metadata": {},
   "outputs": [
    {
     "data": {
      "text/plain": [
       "array([-9, -9, -9, -9, -9, -9, -9, -9, -9])"
      ]
     },
     "execution_count": 117,
     "metadata": {},
     "output_type": "execute_result"
    }
   ],
   "source": [
    "degis1 - degis2"
   ]
  },
  {
   "cell_type": "code",
   "execution_count": 118,
   "id": "8f168637",
   "metadata": {},
   "outputs": [
    {
     "data": {
      "text/plain": [
       "array([ 10,  22,  36,  52,  70,  90, 112, 136, 162])"
      ]
     },
     "execution_count": 118,
     "metadata": {},
     "output_type": "execute_result"
    }
   ],
   "source": [
    "degis1 * degis2"
   ]
  },
  {
   "cell_type": "code",
   "execution_count": 119,
   "id": "d13437fd",
   "metadata": {},
   "outputs": [
    {
     "data": {
      "text/plain": [
       "array([0.1       , 0.18181818, 0.25      , 0.30769231, 0.35714286,\n",
       "       0.4       , 0.4375    , 0.47058824, 0.5       ])"
      ]
     },
     "execution_count": 119,
     "metadata": {},
     "output_type": "execute_result"
    }
   ],
   "source": [
    "degis1 / degis2"
   ]
  },
  {
   "cell_type": "code",
   "execution_count": 121,
   "id": "2b1bfbb7",
   "metadata": {},
   "outputs": [
    {
     "data": {
      "text/plain": [
       "array([-9, -8, -7, -6, -5, -4, -3, -2, -1])"
      ]
     },
     "execution_count": 121,
     "metadata": {},
     "output_type": "execute_result"
    }
   ],
   "source": [
    "degis1 - 10   #her bir sayıdan 10 çıkarır"
   ]
  },
  {
   "cell_type": "code",
   "execution_count": 122,
   "id": "868c5578",
   "metadata": {},
   "outputs": [
    {
     "data": {
      "text/plain": [
       "array([ 2,  4,  6,  8, 10, 12, 14, 16, 18])"
      ]
     },
     "execution_count": 122,
     "metadata": {},
     "output_type": "execute_result"
    }
   ],
   "source": [
    "degis1 * 2"
   ]
  },
  {
   "cell_type": "code",
   "execution_count": 123,
   "id": "13276589",
   "metadata": {},
   "outputs": [
    {
     "data": {
      "text/plain": [
       "array([ 6,  7,  8,  9, 10, 11, 12, 13, 14])"
      ]
     },
     "execution_count": 123,
     "metadata": {},
     "output_type": "execute_result"
    }
   ],
   "source": [
    "degis1 + 5"
   ]
  },
  {
   "cell_type": "code",
   "execution_count": 124,
   "id": "cac1a269",
   "metadata": {},
   "outputs": [
    {
     "data": {
      "text/plain": [
       "array([0.5, 1. , 1.5, 2. , 2.5, 3. , 3.5, 4. , 4.5])"
      ]
     },
     "execution_count": 124,
     "metadata": {},
     "output_type": "execute_result"
    }
   ],
   "source": [
    "degis1 / 2"
   ]
  },
  {
   "cell_type": "code",
   "execution_count": 126,
   "id": "b7a1db69",
   "metadata": {},
   "outputs": [
    {
     "data": {
      "text/plain": [
       "array([1.        , 1.41421356, 1.73205081, 2.        , 2.23606798,\n",
       "       2.44948974, 2.64575131, 2.82842712, 3.        ])"
      ]
     },
     "execution_count": 126,
     "metadata": {},
     "output_type": "execute_result"
    }
   ],
   "source": [
    "np.sqrt(degis1)         #her bir elemanın karekökünü alır"
   ]
  },
  {
   "cell_type": "code",
   "execution_count": null,
   "id": "a39b6f2d",
   "metadata": {},
   "outputs": [],
   "source": []
  }
 ],
 "metadata": {
  "kernelspec": {
   "display_name": "Python 3 (ipykernel)",
   "language": "python",
   "name": "python3"
  },
  "language_info": {
   "codemirror_mode": {
    "name": "ipython",
    "version": 3
   },
   "file_extension": ".py",
   "mimetype": "text/x-python",
   "name": "python",
   "nbconvert_exporter": "python",
   "pygments_lexer": "ipython3",
   "version": "3.10.2"
  }
 },
 "nbformat": 4,
 "nbformat_minor": 5
}
